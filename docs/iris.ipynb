{
 "cells": [
  {
   "cell_type": "markdown",
   "metadata": {},
   "source": [
    "# Iris Dataset"
   ]
  },
  {
   "cell_type": "code",
   "execution_count": 1,
   "metadata": {
    "collapsed": true
   },
   "outputs": [],
   "source": [
    "import pysparkling\n",
    "c = pysparkling.Context()"
   ]
  },
  {
   "cell_type": "code",
   "execution_count": 2,
   "metadata": {
    "collapsed": false
   },
   "outputs": [],
   "source": [
    "# This iris dataset is documented at http://archive.ics.uci.edu/ml/datasets/Iris.\n",
    "# With scikit-learn, the iris dataset is also built-in (under scikit-learn.datasets.load_iris()).\n",
    "rdd = c.textFile('http://archive.ics.uci.edu/ml/machine-learning-databases/iris/iris.data').cache()"
   ]
  },
  {
   "cell_type": "code",
   "execution_count": 3,
   "metadata": {
    "collapsed": false
   },
   "outputs": [],
   "source": [
    "rdd = rdd.filter(lambda line: len(line) > 3)\n",
    "train, test = rdd.randomSplit([0.7, 0.3])\n",
    "\n",
    "def get_X(line):\n",
    "    return [float(e) for e in line.split(',')[:-1]]\n",
    "\n",
    "def get_y(line):\n",
    "    return line.split(',')[-1].replace('Iris-', '')\n",
    "\n",
    "X_train = train.map(get_X).collect()\n",
    "y_train = train.map(get_y).collect()\n",
    "X_test = test.map(get_X).collect()\n",
    "y_test = test.map(get_y).collect()"
   ]
  },
  {
   "cell_type": "code",
   "execution_count": 4,
   "metadata": {
    "collapsed": false
   },
   "outputs": [
    {
     "name": "stdout",
     "output_type": "stream",
     "text": [
      "[[5.1, 3.5, 1.4, 0.2], [4.9, 3.0, 1.4, 0.2], [4.7, 3.2, 1.3, 0.2], [4.6, 3.1, 1.5, 0.2], [5.0, 3.6, 1.4, 0.2], [5.4, 3.9, 1.7, 0.4], [5.0, 3.4, 1.5, 0.2], [4.4, 2.9, 1.4, 0.2], [4.9, 3.1, 1.5, 0.1], [4.8, 3.4, 1.6, 0.2], [5.8, 4.0, 1.2, 0.2], [5.7, 4.4, 1.5, 0.4], [5.4, 3.9, 1.3, 0.4], [5.1, 3.5, 1.4, 0.3], [5.7, 3.8, 1.7, 0.3], [5.1, 3.8, 1.5, 0.3], [5.4, 3.4, 1.7, 0.2], [5.1, 3.7, 1.5, 0.4], [4.6, 3.6, 1.0, 0.2], [4.8, 3.4, 1.9, 0.2], [5.0, 3.0, 1.6, 0.2], [5.0, 3.4, 1.6, 0.4], [4.7, 3.2, 1.6, 0.2], [4.8, 3.1, 1.6, 0.2], [5.4, 3.4, 1.5, 0.4], [5.2, 4.1, 1.5, 0.1], [5.5, 4.2, 1.4, 0.2], [5.0, 3.2, 1.2, 0.2], [5.5, 3.5, 1.3, 0.2], [4.9, 3.1, 1.5, 0.1], [4.4, 3.0, 1.3, 0.2], [5.1, 3.4, 1.5, 0.2], [5.0, 3.5, 1.3, 0.3], [4.5, 2.3, 1.3, 0.3], [4.4, 3.2, 1.3, 0.2], [5.1, 3.8, 1.9, 0.4], [4.8, 3.0, 1.4, 0.3], [5.1, 3.8, 1.6, 0.2], [5.3, 3.7, 1.5, 0.2], [7.0, 3.2, 4.7, 1.4], [6.4, 3.2, 4.5, 1.5], [6.9, 3.1, 4.9, 1.5], [5.5, 2.3, 4.0, 1.3], [6.5, 2.8, 4.6, 1.5], [5.7, 2.8, 4.5, 1.3], [6.3, 3.3, 4.7, 1.6], [4.9, 2.4, 3.3, 1.0], [6.6, 2.9, 4.6, 1.3], [5.2, 2.7, 3.9, 1.4], [5.0, 2.0, 3.5, 1.0], [5.9, 3.0, 4.2, 1.5], [6.1, 2.9, 4.7, 1.4], [5.6, 2.9, 3.6, 1.3], [6.7, 3.1, 4.4, 1.4], [5.8, 2.7, 4.1, 1.0], [6.2, 2.2, 4.5, 1.5], [6.3, 2.5, 4.9, 1.5], [6.7, 3.0, 5.0, 1.7], [6.0, 2.9, 4.5, 1.5], [5.7, 2.6, 3.5, 1.0], [5.4, 3.0, 4.5, 1.5], [6.7, 3.1, 4.7, 1.5], [5.6, 3.0, 4.1, 1.3], [5.5, 2.5, 4.0, 1.3], [5.5, 2.6, 4.4, 1.2], [5.8, 2.6, 4.0, 1.2], [5.0, 2.3, 3.3, 1.0], [5.6, 2.7, 4.2, 1.3], [5.7, 3.0, 4.2, 1.2], [5.7, 2.9, 4.2, 1.3], [6.2, 2.9, 4.3, 1.3], [5.1, 2.5, 3.0, 1.1], [5.7, 2.8, 4.1, 1.3], [6.3, 3.3, 6.0, 2.5], [6.3, 2.9, 5.6, 1.8], [6.5, 3.0, 5.8, 2.2], [7.6, 3.0, 6.6, 2.1], [4.9, 2.5, 4.5, 1.7], [7.3, 2.9, 6.3, 1.8], [6.7, 2.5, 5.8, 1.8], [6.5, 3.2, 5.1, 2.0], [6.8, 3.0, 5.5, 2.1], [5.7, 2.5, 5.0, 2.0], [5.8, 2.8, 5.1, 2.4], [6.4, 3.2, 5.3, 2.3], [6.5, 3.0, 5.5, 1.8], [7.7, 2.6, 6.9, 2.3], [6.9, 3.2, 5.7, 2.3], [5.6, 2.8, 4.9, 2.0], [6.3, 2.7, 4.9, 1.8], [6.1, 3.0, 4.9, 1.8], [7.9, 3.8, 6.4, 2.0], [6.3, 2.8, 5.1, 1.5], [6.3, 3.4, 5.6, 2.4], [6.4, 3.1, 5.5, 1.8], [6.0, 3.0, 4.8, 1.8], [6.9, 3.1, 5.4, 2.1], [6.7, 3.1, 5.6, 2.4], [6.9, 3.1, 5.1, 2.3], [5.8, 2.7, 5.1, 1.9], [6.8, 3.2, 5.9, 2.3], [6.7, 3.3, 5.7, 2.5], [6.5, 3.0, 5.2, 2.0], [6.2, 3.4, 5.4, 2.3]]\n"
     ]
    }
   ],
   "source": [
    "print(X_train)"
   ]
  },
  {
   "cell_type": "code",
   "execution_count": 5,
   "metadata": {
    "collapsed": false
   },
   "outputs": [
    {
     "name": "stdout",
     "output_type": "stream",
     "text": [
      "[u'setosa', u'setosa', u'setosa', u'setosa', u'setosa', u'setosa', u'setosa', u'setosa', u'setosa', u'setosa', u'setosa', u'setosa', u'setosa', u'setosa', u'setosa', u'setosa', u'setosa', u'setosa', u'setosa', u'setosa', u'setosa', u'setosa', u'setosa', u'setosa', u'setosa', u'setosa', u'setosa', u'setosa', u'setosa', u'setosa', u'setosa', u'setosa', u'setosa', u'setosa', u'setosa', u'setosa', u'setosa', u'setosa', u'setosa', u'versicolor', u'versicolor', u'versicolor', u'versicolor', u'versicolor', u'versicolor', u'versicolor', u'versicolor', u'versicolor', u'versicolor', u'versicolor', u'versicolor', u'versicolor', u'versicolor', u'versicolor', u'versicolor', u'versicolor', u'versicolor', u'versicolor', u'versicolor', u'versicolor', u'versicolor', u'versicolor', u'versicolor', u'versicolor', u'versicolor', u'versicolor', u'versicolor', u'versicolor', u'versicolor', u'versicolor', u'versicolor', u'versicolor', u'versicolor', u'virginica', u'virginica', u'virginica', u'virginica', u'virginica', u'virginica', u'virginica', u'virginica', u'virginica', u'virginica', u'virginica', u'virginica', u'virginica', u'virginica', u'virginica', u'virginica', u'virginica', u'virginica', u'virginica', u'virginica', u'virginica', u'virginica', u'virginica', u'virginica', u'virginica', u'virginica', u'virginica', u'virginica', u'virginica', u'virginica', u'virginica']\n"
     ]
    }
   ],
   "source": [
    "print(y_train)"
   ]
  },
  {
   "cell_type": "markdown",
   "metadata": {
    "collapsed": true
   },
   "source": [
    "# K Nearest Neighbors"
   ]
  },
  {
   "cell_type": "code",
   "execution_count": 6,
   "metadata": {
    "collapsed": false
   },
   "outputs": [],
   "source": [
    "from sklearn.neighbors import KNeighborsClassifier\n",
    "knn = KNeighborsClassifier().fit(X_train, y_train)"
   ]
  },
  {
   "cell_type": "code",
   "execution_count": 7,
   "metadata": {
    "collapsed": false
   },
   "outputs": [
    {
     "name": "stdout",
     "output_type": "stream",
     "text": [
      "[(u'setosa', u'setosa'),\n",
      " (u'setosa', u'setosa'),\n",
      " (u'setosa', u'setosa'),\n",
      " (u'setosa', u'setosa'),\n",
      " (u'setosa', u'setosa'),\n",
      " (u'setosa', u'setosa'),\n",
      " (u'setosa', u'setosa'),\n",
      " (u'setosa', u'setosa'),\n",
      " (u'setosa', u'setosa'),\n",
      " (u'setosa', u'setosa'),\n",
      " (u'setosa', u'setosa'),\n",
      " (u'versicolor', u'versicolor'),\n",
      " (u'versicolor', u'versicolor'),\n",
      " (u'versicolor', u'versicolor'),\n",
      " (u'versicolor', u'versicolor'),\n",
      " (u'versicolor', u'versicolor'),\n",
      " (u'versicolor', u'versicolor'),\n",
      " (u'versicolor', u'versicolor'),\n",
      " (u'versicolor', u'versicolor'),\n",
      " (u'versicolor', u'versicolor'),\n",
      " (u'versicolor', u'versicolor'),\n",
      " (u'versicolor', u'versicolor'),\n",
      " (u'versicolor', u'versicolor'),\n",
      " (u'virginica', u'versicolor'),\n",
      " (u'versicolor', u'versicolor'),\n",
      " (u'versicolor', u'versicolor'),\n",
      " (u'versicolor', u'versicolor'),\n",
      " (u'virginica', u'virginica'),\n",
      " (u'virginica', u'virginica'),\n",
      " (u'virginica', u'virginica'),\n",
      " (u'virginica', u'virginica'),\n",
      " (u'virginica', u'virginica'),\n",
      " (u'virginica', u'virginica'),\n",
      " (u'virginica', u'virginica'),\n",
      " (u'virginica', u'virginica'),\n",
      " (u'virginica', u'virginica'),\n",
      " (u'virginica', u'virginica'),\n",
      " (u'virginica', u'virginica'),\n",
      " (u'virginica', u'virginica'),\n",
      " (u'virginica', u'virginica'),\n",
      " (u'virginica', u'virginica'),\n",
      " (u'virginica', u'virginica'),\n",
      " (u'virginica', u'virginica'),\n",
      " (u'virginica', u'virginica'),\n",
      " (u'virginica', u'virginica'),\n",
      " (u'virginica', u'virginica')]\n"
     ]
    }
   ],
   "source": [
    "import pprint\n",
    "pprint.pprint(zip(knn.predict(X_test), y_test))"
   ]
  },
  {
   "cell_type": "code",
   "execution_count": null,
   "metadata": {
    "collapsed": true
   },
   "outputs": [],
   "source": []
  }
 ],
 "metadata": {
  "kernelspec": {
   "display_name": "Python 2",
   "language": "python",
   "name": "python2"
  },
  "language_info": {
   "codemirror_mode": {
    "name": "ipython",
    "version": 2
   },
   "file_extension": ".py",
   "mimetype": "text/x-python",
   "name": "python",
   "nbconvert_exporter": "python",
   "pygments_lexer": "ipython2",
   "version": "2.7.8"
  }
 },
 "nbformat": 4,
 "nbformat_minor": 0
}

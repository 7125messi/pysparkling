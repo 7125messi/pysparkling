{
 "cells": [
  {
   "cell_type": "code",
   "execution_count": 5,
   "metadata": {
    "collapsed": true
   },
   "outputs": [],
   "source": [
    "from pysparkling import Context"
   ]
  },
  {
   "cell_type": "markdown",
   "metadata": {},
   "source": [
    "Word Count\n",
    "---------"
   ]
  },
  {
   "cell_type": "code",
   "execution_count": 6,
   "metadata": {
    "collapsed": false
   },
   "outputs": [
    {
     "name": "stdout",
     "output_type": "stream",
     "text": [
      "[(u'', 1426), (u'05', 1), (u'1', 2), (u'100k', 1), (u'11', 2), (u'2015', 4), (u'46333', 1), (u'A', 1), (u'ACCESS', 2), (u'API', 3), (u'AWS', 3), (u'Broadcast', 2), (u'BytesIO', 1), (u'CAACGCCGCGTGAGGGATGACGGCCTTCGGGTTGTAAACCTCTTTCAGTATCGACGAAGC', 1), (u'CC', 2), (u'Common', 2), (u'Context', 8), (u'Count', 1), (u'Crawl', 2), (u'DEMO', 1), (u'Examples', 1), (u'False', 2), (u'Features', 1), (u'File', 1), (u'Get', 1), (u'HISTORY', 2), (u'HM16STR', 1), (u'Hadoop', 1), (u'Handles', 1), (u'Human', 1), (u'ID', 1), (u'If', 1), (u'Infers', 1), (u'Install', 1), (u'It', 1), (u'JVM', 2), (u'KEY', 2), (u'MAIN', 2), (u'Microbiome', 1), (u'More', 1), (u'None', 7), (u'Normally', 1), (u'Now', 1), (u'Parallelization', 1), (u'Pool', 3), (u'Project', 1), (u'PySpark', 1), (u'Python', 1), (u'RDD', 20), (u'RDDs', 1), (u'README', 1), (u'Resolves', 1), (u'S3', 5), (u'SECRET', 1), (u'Spark', 2), (u'SparkContext', 1), (u'Specify', 1), (u'StatCounter', 1), (u'Supports', 1), (u'The', 6), (u'They', 1), (u'This', 2), (u'ThreadPoolExecutor', 1), (u'To', 1), (u'URI', 1), (u'Use', 3), (u'Word', 1), (u'You', 1), (u'a', 38), (u'absolut', 1), (u'absolute', 1), (u'access', 1), (u'accessed', 1), (u'aggregate', 5), (u'aggregateByKey', 1), (u'all', 2), (u'an', 6), (u'and', 26), (u'any', 1), (u'apply', 5), (u'archive', 1), (u'are', 6), (u'as', 3), (u'auth', 1), (u'available', 1), (u'aws', 2), (u'b', 2), (u'badge', 1), (u'bash', 1), (u'be', 3), (u'block', 4), (u'blog', 2), (u'boto', 1), (u'broadcast', 1), (u'bucket', 2), (u'buckets', 2), (u'but', 2), (u'by', 10), (u'bz2', 2), (u'cache', 1), (u'caches', 1), (u'call', 1), (u'can', 2), (u'cartesian', 2), (u'case', 1), (u'ch', 3), (u'change', 1), (u'check', 1), (u'classifier', 2), (u'coalesce', 1), (u'code', 4), (u'codes', 1), (u'collect', 3), (u'com', 2), (u'combFunc', 1), (u'combOp', 2), (u'combine', 1), (u'comma', 2), (u'command', 2), (u'common', 2), (u'commoncrawl', 1), (u'compressed', 2), (u'compressions', 1), (u'concurrent', 1), (u'contain', 1), (u'containing', 2), (u'contents', 1), (u'context', 2), (u'converts', 1), (u'count', 3), (u'countApprox', 1), (u'countByKey', 1), (u'countByValue', 1), (u'counts', 3), (u'crawl', 5), (u'creates', 1), (u'currently', 1), (u'custom', 1), (u'data', 4), (u'dataset', 2), (u'datasets', 1), (u'dependencies', 1), (u'dependency', 2), (u'deserializer', 3), (u'deserializers', 1), (u'deviation', 2), (u'dictionary', 2), (u'dill', 2), (u'directly', 1), (u'distinct', 2), (u'distributed', 1), (u'dm', 1), (u'do', 1), (u'document', 1), (u'documents', 1), (u'does', 1), (u'done', 1), (u'drop', 1), (u'dump', 1), (u'dumps', 1), (u'e', 2), (u'each', 1), (u'either', 2), (u'element', 6), (u'elements', 6), (u'else', 1), (u'endpoint', 1), (u'entire', 2), (u'environment', 1), (u'every', 4), (u'example', 2), (u'executed', 1), (u'existance', 1), (u'exists', 1), (u'expr', 1), (u'expression', 1), (u'external', 1), (u'extracted', 1), (u'f', 1), (u'fast', 1), (u'features', 1), (u'file', 13), (u'fileio', 1), (u'filename', 5), (u'filenames', 2), (u'files', 7), (u'filter', 1), (u'filtered', 1), (u'first', 3), (u'flatMap', 2), (u'flatMapValues', 1), (u'flattened', 1), (u'focus', 1), (u'fold', 1), (u'foldByKey', 1), (u'folder', 1), (u'for', 15), (u'foreach', 1), (u'foreachPartition', 1), (u'form', 2), (u'fraction', 1), (u'from', 6), (u'full', 1), (u'func', 17), (u'functionality', 1), (u'functions', 2), (u'fury', 1), (u'futures', 1), (u'g', 2), (u'get', 7), (u'getNumPartitions', 1), (u'getPartitions', 1), (u'github', 1), (u'githubusercontent', 1), (u'given', 1), (u'glob', 1), (u'group', 2), (u'groupBy', 1), (u'groupByKey', 1), (u'gz', 3), (u'gzip', 1), (u'has', 2), (u'have', 6), (u'having', 1), (u'histogram', 1), (u'http', 4), (u'https', 6), (u'human', 1), (u'id', 1), (u'if', 1), (u'image', 3), (u'img', 1), (u'implementation', 2), (u'import', 3), (u'in', 16), (u'included', 1), (u'incrementing', 1), (u'index', 1), (u'info', 1), (u'init', 1), (u'initialization', 1), (u'input', 3), (u'install', 1), (u'instance', 1), (u'int', 1), (u'interface', 1), (u'internal', 1), (u'intersection', 2), (u'into', 1), (u'io', 2), (u'is', 13), (u'isCheckpointed', 1), (u'isalnum', 1), (u'it', 2), (u'iterable', 1), (u'iterator', 2), (u'join', 5), (u'just', 1), (u'key', 8), (u'keyBy', 1), (u'keys', 2), (u'lambda', 5), (u'latest', 1), (u'lazily', 1), (u'learn', 1), (u'left', 1), (u'leftOuterJoin', 1), (u'length', 2), (u'lightweight', 1), (u'like', 4), (u'line', 8), (u'list', 10), (u'load', 2), (u'loading', 1), (u'loads', 1), (u'local', 4), (u'locally', 1), (u'log', 1), (u'logo', 2), (u'long', 2), (u'lookup', 1), (u'make', 1), (u'many', 1), (u'map', 6), (u'mapPartitions', 1), (u'mapValues', 1), (u'march', 1), (u'master', 1), (u'matching', 1), (u'max', 1), (u'maximum', 1), (u'mean', 2), (u'method', 2), (u'methods', 1), (u'microbiome', 1), (u'min', 1), (u'minimum', 1), (u'module', 1), (u'multiple', 2), (u'multiprocessing', 2), (u'my', 2), (u'n', 4), (u'name', 7), (u'native', 1), (u'need', 1), (u'new', 11), (u'newRddId', 1), (u'no', 1), (u'normalized', 1), (u'not', 3), (u'nothing', 1), (u'numPartitions', 1), (u'number', 2), (u'object', 2), (u'objective', 1), (u'objects', 1), (u'of', 22), (u'on', 8), (u'only', 3), (u'op', 2), (u'operations', 1), (u'or', 5), (u'org', 3), (u'other', 11), (u'out', 1), (u'outer', 2), (u'output', 1), (u'outputs', 1), (u'over', 1), (u'overhead', 1), (u'pairs', 4), (u'parallel', 1), (u'parallelize', 1), (u'part', 1), (u'partition', 2), (u'partitions', 3), (u'path', 6), (u'paths', 9), (u'per', 1), (u'perfect', 1), (u'persist', 2), (u'pip', 1), (u'pipe', 2), (u'pipeline', 2), (u'png', 1), (u'points', 1), (u'pool', 2), (u'post', 1), (u'pre', 1), (u'preferably', 1), (u'preprocessing', 1), (u'previous', 2), (u'primary', 1), (u'print', 3), (u'prints', 3), (u'processes', 1), (u'processing', 1), (u'product', 1), (u'project', 1), (u'provided', 1), (u'public', 1), (u'publicdatasets', 2), (u'py', 2), (u'pypi', 5), (u'pysparkling', 13), (u'python', 5), (u'random', 2), (u'raw', 1), (u'rdd', 4), (u'read', 1), (u'reading', 1), (u'readme', 1), (u'recursive', 1), (u'reduce', 3), (u'reduceByKey', 2), (u'relative', 1), (u'remove', 1), (u'repartition', 2), (u'replacement', 1), (u'requests', 1), (u'resilient', 1), (u'resolve', 1), (u'resolved', 1), (u'return', 14), (u'returns', 8), (u'right', 1), (u'rightOuterJoin', 1), (u'rst', 3), (u's', 4), (u's3n', 6), (u'same', 3), (u'sample', 4), (u'sampleStdev', 1), (u'sampleVariance', 1), (u'samples', 1), (u'save', 1), (u'saveAsTextFile', 2), (u'schemes', 1), (u'scikit', 1), (u'seed', 1), (u'separated', 2), (u'seqFunc', 1), (u'seqOp', 2), (u'serializer', 3), (u'serializers', 1), (u'shields', 1), (u'should', 2), (u'single', 1), (u'small', 2), (u'source', 1), (u'specify', 1), (u'split', 1), (u'standard', 2), (u'static', 2), (u'stats', 1), (u'stdev', 1), (u'steps', 1), (u'still', 1), (u'stores', 1), (u'stream', 2), (u'subject', 3), (u'submodule', 1), (u'subtract', 1), (u'sum', 2), (u'support', 1), (u'svenkreiss', 2), (u'svg', 2), (u'synonym', 1), (u'take', 1), (u'takeSample', 2), (u'takes', 1), (u'target', 3), (u'task', 1), (u'tests', 1), (u'text', 4), (u'textFile', 5), (u'that', 4), (u'the', 33), (u'their', 1), (u'them', 1), (u'there', 1), (u'this', 5), (u'those', 1), (u'through', 1), (u'to', 16), (u'toLocalIterator', 1), (u'tool', 1), (u'train', 1), (u'trained', 1), (u'tuple', 1), (u'tuples', 1), (u'two', 1), (u'txt', 5), (u'type', 1), (u'u', 1), (u'underlying', 1), (u'union', 2), (u'unique', 1), (u'use', 2), (u'used', 2), (u'value', 7), (u'values', 2), (u'var', 1), (u'variables', 1), (u'variance', 3), (u'version', 2), (u'via', 1), (u'w100', 1), (u'want', 1), (u'warc', 2), (u'wat', 2), (u'what', 1), (u'where', 1), (u'which', 3), (u'wildcards', 2), (u'with', 7), (u'withReplacement', 1), (u'without', 2), (u'word', 2), (u'words', 2), (u'write', 1), (u'writing', 1), (u'you', 3), (u'zeroValue', 4), (u'zip', 1), (u'zipWithUniqueId', 1)]\n"
     ]
    }
   ],
   "source": [
    "counts = Context().textFile(\n",
    "    '../README.rst'\n",
    ").map(\n",
    "    lambda line: ''.join(ch if ch.isalnum() else ' ' for ch in line)\n",
    ").flatMap(\n",
    "    lambda line: line.split(' ')\n",
    ").map(\n",
    "    lambda word: (word, 1)\n",
    ").reduceByKey(\n",
    "    lambda a, b: a + b\n",
    ")\n",
    "print(counts.collect())"
   ]
  },
  {
   "cell_type": "markdown",
   "metadata": {},
   "source": [
    "Accessing Public Datasets on AWS S3\n",
    "===================\n",
    "\n",
    "You need to have valid AWS account credentials in your environment under ``AWS_ACCESS_KEY_ID`` and ``AWS_SECRET_ACCESS_KEY`` for the next demos.\n",
    "\n",
    "\n",
    "Common Crawl\n",
    "-----------"
   ]
  },
  {
   "cell_type": "code",
   "execution_count": 7,
   "metadata": {
    "collapsed": false
   },
   "outputs": [
    {
     "name": "stdout",
     "output_type": "stream",
     "text": [
      "[u'common-crawl/crawl-data/CC-MAIN-2015-11/segments/1424936464303.77/warc/CC-MAIN-20150226074104-00038-ip-10-28-5-156.ec2.internal.warc.gz', u'common-crawl/crawl-data/CC-MAIN-2015-11/segments/1424936462426.4/wat/CC-MAIN-20150226074102-00080-ip-10-28-5-156.ec2.internal.warc.wat.gz', u'common-crawl/crawl-data/CC-MAIN-2015-11/segments/1424936463093.76/wat/CC-MAIN-20150226074103-00303-ip-10-28-5-156.ec2.internal.warc.wat.gz', u'common-crawl/crawl-data/CC-MAIN-2015-11/segments/1424936463425.63/wat/CC-MAIN-20150226074103-00312-ip-10-28-5-156.ec2.internal.warc.wat.gz', u'common-crawl/crawl-data/CC-MAIN-2015-11/segments/1424937406179.50/wat/CC-MAIN-20150226075646-00231-ip-10-28-5-156.ec2.internal.warc.wat.gz']\n"
     ]
    }
   ],
   "source": [
    "# read all the paths of warc and wat files of the latest Common Crawl\n",
    "paths_rdd = Context().textFile(\n",
    "    's3n://aws-publicdatasets/common-crawl/crawl-data/CC-MAIN-2015-11/warc.paths.*,'\n",
    "    's3n://aws-publicdatasets/common-crawl/crawl-data/CC-MAIN-2015-11/wat.paths.gz'\n",
    ")\n",
    "\n",
    "print(paths_rdd.takeSample(5))"
   ]
  },
  {
   "cell_type": "markdown",
   "metadata": {},
   "source": [
    "Human Biome Project\n",
    "------------------"
   ]
  },
  {
   "cell_type": "code",
   "execution_count": 8,
   "metadata": {
    "collapsed": false
   },
   "outputs": [
    {
     "name": "stdout",
     "output_type": "stream",
     "text": [
      "[u'GCGCTCAGAGATGGGTGTGCCTCTTTTGGGTTCGGTTCACAGGTGGTGCATGGCTGTCGT']\n"
     ]
    }
   ],
   "source": [
    "# access data from the Human Microbiome Project\n",
    "by_subject_rdd = Context().textFile(\n",
    "    's3n://human-microbiome-project/DEMO/HM16STR/46333/by_subject/*'\n",
    ")\n",
    "print(by_subject_rdd.takeSample(1))"
   ]
  },
  {
   "cell_type": "code",
   "execution_count": null,
   "metadata": {
    "collapsed": true
   },
   "outputs": [],
   "source": []
  }
 ],
 "metadata": {
  "kernelspec": {
   "display_name": "Python 2",
   "language": "python",
   "name": "python2"
  },
  "language_info": {
   "codemirror_mode": {
    "name": "ipython",
    "version": 2
   },
   "file_extension": ".py",
   "mimetype": "text/x-python",
   "name": "python",
   "nbconvert_exporter": "python",
   "pygments_lexer": "ipython2",
   "version": "2.7.9"
  }
 },
 "nbformat": 4,
 "nbformat_minor": 0
}
